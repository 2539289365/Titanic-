{
 "cells": [
  {
   "cell_type": "markdown",
   "id": "797bb14f",
   "metadata": {},
   "source": [
    "导入相关包"
   ]
  },
  {
   "cell_type": "code",
   "execution_count": 1,
   "id": "8ee5925e",
   "metadata": {},
   "outputs": [],
   "source": [
    "import copy\n",
    "import torch\n",
    "import torch.nn as nn\n",
    "import numpy as np\n",
    "import pandas as pd\n",
    "from IPython import display\n",
    "import os\n",
    "from matplotlib import pyplot as plt\n",
    "%matplotlib inline"
   ]
  },
  {
   "cell_type": "code",
   "execution_count": 2,
   "id": "e483e329",
   "metadata": {},
   "outputs": [],
   "source": [
    "TRAIN_PATH = \"../titanic/train.csv\" \n",
    "TEST_PATH = \"../titanic/test.csv\""
   ]
  },
  {
   "cell_type": "code",
   "execution_count": 3,
   "id": "f5fe0586",
   "metadata": {},
   "outputs": [],
   "source": [
    "ID = 'PassengerId'\n",
    "TARGET = 'Survived'"
   ]
  },
  {
   "cell_type": "code",
   "execution_count": 4,
   "id": "ab4c3403",
   "metadata": {},
   "outputs": [
    {
     "data": {
      "text/html": [
       "<div>\n",
       "<style scoped>\n",
       "    .dataframe tbody tr th:only-of-type {\n",
       "        vertical-align: middle;\n",
       "    }\n",
       "\n",
       "    .dataframe tbody tr th {\n",
       "        vertical-align: top;\n",
       "    }\n",
       "\n",
       "    .dataframe thead th {\n",
       "        text-align: right;\n",
       "    }\n",
       "</style>\n",
       "<table border=\"1\" class=\"dataframe\">\n",
       "  <thead>\n",
       "    <tr style=\"text-align: right;\">\n",
       "      <th></th>\n",
       "      <th>PassengerId</th>\n",
       "      <th>Survived</th>\n",
       "      <th>Pclass</th>\n",
       "      <th>Name</th>\n",
       "      <th>Sex</th>\n",
       "      <th>Age</th>\n",
       "      <th>SibSp</th>\n",
       "      <th>Parch</th>\n",
       "      <th>Ticket</th>\n",
       "      <th>Fare</th>\n",
       "      <th>Cabin</th>\n",
       "      <th>Embarked</th>\n",
       "    </tr>\n",
       "  </thead>\n",
       "  <tbody>\n",
       "    <tr>\n",
       "      <th>0</th>\n",
       "      <td>1</td>\n",
       "      <td>0</td>\n",
       "      <td>3</td>\n",
       "      <td>Braund, Mr. Owen Harris</td>\n",
       "      <td>male</td>\n",
       "      <td>22.0</td>\n",
       "      <td>1</td>\n",
       "      <td>0</td>\n",
       "      <td>A/5 21171</td>\n",
       "      <td>7.2500</td>\n",
       "      <td>NaN</td>\n",
       "      <td>S</td>\n",
       "    </tr>\n",
       "    <tr>\n",
       "      <th>1</th>\n",
       "      <td>2</td>\n",
       "      <td>1</td>\n",
       "      <td>1</td>\n",
       "      <td>Cumings, Mrs. John Bradley (Florence Briggs Th...</td>\n",
       "      <td>female</td>\n",
       "      <td>38.0</td>\n",
       "      <td>1</td>\n",
       "      <td>0</td>\n",
       "      <td>PC 17599</td>\n",
       "      <td>71.2833</td>\n",
       "      <td>C85</td>\n",
       "      <td>C</td>\n",
       "    </tr>\n",
       "    <tr>\n",
       "      <th>2</th>\n",
       "      <td>3</td>\n",
       "      <td>1</td>\n",
       "      <td>3</td>\n",
       "      <td>Heikkinen, Miss. Laina</td>\n",
       "      <td>female</td>\n",
       "      <td>26.0</td>\n",
       "      <td>0</td>\n",
       "      <td>0</td>\n",
       "      <td>STON/O2. 3101282</td>\n",
       "      <td>7.9250</td>\n",
       "      <td>NaN</td>\n",
       "      <td>S</td>\n",
       "    </tr>\n",
       "  </tbody>\n",
       "</table>\n",
       "</div>"
      ],
      "text/plain": [
       "   PassengerId  Survived  Pclass  \\\n",
       "0            1         0       3   \n",
       "1            2         1       1   \n",
       "2            3         1       3   \n",
       "\n",
       "                                                Name     Sex   Age  SibSp  \\\n",
       "0                            Braund, Mr. Owen Harris    male  22.0      1   \n",
       "1  Cumings, Mrs. John Bradley (Florence Briggs Th...  female  38.0      1   \n",
       "2                             Heikkinen, Miss. Laina  female  26.0      0   \n",
       "\n",
       "   Parch            Ticket     Fare Cabin Embarked  \n",
       "0      0         A/5 21171   7.2500   NaN        S  \n",
       "1      0          PC 17599  71.2833   C85        C  \n",
       "2      0  STON/O2. 3101282   7.9250   NaN        S  "
      ]
     },
     "execution_count": 4,
     "metadata": {},
     "output_type": "execute_result"
    }
   ],
   "source": [
    "# 读取训练集文件，并查看相关信息\n",
    "train_data = pd.read_csv(TRAIN_PATH)\n",
    "train_data.head(3) "
   ]
  },
  {
   "cell_type": "code",
   "execution_count": 5,
   "id": "13f5a37f",
   "metadata": {},
   "outputs": [
    {
     "name": "stdout",
     "output_type": "stream",
     "text": [
      "<class 'pandas.core.frame.DataFrame'>\n",
      "RangeIndex: 891 entries, 0 to 890\n",
      "Data columns (total 12 columns):\n",
      " #   Column       Non-Null Count  Dtype  \n",
      "---  ------       --------------  -----  \n",
      " 0   PassengerId  891 non-null    int64  \n",
      " 1   Survived     891 non-null    int64  \n",
      " 2   Pclass       891 non-null    int64  \n",
      " 3   Name         891 non-null    object \n",
      " 4   Sex          891 non-null    object \n",
      " 5   Age          714 non-null    float64\n",
      " 6   SibSp        891 non-null    int64  \n",
      " 7   Parch        891 non-null    int64  \n",
      " 8   Ticket       891 non-null    object \n",
      " 9   Fare         891 non-null    float64\n",
      " 10  Cabin        204 non-null    object \n",
      " 11  Embarked     889 non-null    object \n",
      "dtypes: float64(2), int64(5), object(5)\n",
      "memory usage: 83.7+ KB\n"
     ]
    }
   ],
   "source": [
    "# 查看数据的基本信息：（行数、列数、列索引、列类型、列非空值个数、内存占用）\n",
    "train_data.info()"
   ]
  },
  {
   "cell_type": "code",
   "execution_count": 6,
   "id": "9756d63a",
   "metadata": {},
   "outputs": [
    {
     "data": {
      "text/html": [
       "<div>\n",
       "<style scoped>\n",
       "    .dataframe tbody tr th:only-of-type {\n",
       "        vertical-align: middle;\n",
       "    }\n",
       "\n",
       "    .dataframe tbody tr th {\n",
       "        vertical-align: top;\n",
       "    }\n",
       "\n",
       "    .dataframe thead th {\n",
       "        text-align: right;\n",
       "    }\n",
       "</style>\n",
       "<table border=\"1\" class=\"dataframe\">\n",
       "  <thead>\n",
       "    <tr style=\"text-align: right;\">\n",
       "      <th></th>\n",
       "      <th>Survived</th>\n",
       "      <th>Pclass</th>\n",
       "      <th>Sex</th>\n",
       "      <th>Age</th>\n",
       "      <th>SibSp</th>\n",
       "      <th>Parch</th>\n",
       "      <th>Fare</th>\n",
       "      <th>Cabin</th>\n",
       "      <th>Embarked</th>\n",
       "    </tr>\n",
       "  </thead>\n",
       "  <tbody>\n",
       "    <tr>\n",
       "      <th>0</th>\n",
       "      <td>0</td>\n",
       "      <td>3</td>\n",
       "      <td>male</td>\n",
       "      <td>22.0</td>\n",
       "      <td>1</td>\n",
       "      <td>0</td>\n",
       "      <td>7.2500</td>\n",
       "      <td>NaN</td>\n",
       "      <td>S</td>\n",
       "    </tr>\n",
       "    <tr>\n",
       "      <th>1</th>\n",
       "      <td>1</td>\n",
       "      <td>1</td>\n",
       "      <td>female</td>\n",
       "      <td>38.0</td>\n",
       "      <td>1</td>\n",
       "      <td>0</td>\n",
       "      <td>71.2833</td>\n",
       "      <td>C85</td>\n",
       "      <td>C</td>\n",
       "    </tr>\n",
       "    <tr>\n",
       "      <th>2</th>\n",
       "      <td>1</td>\n",
       "      <td>3</td>\n",
       "      <td>female</td>\n",
       "      <td>26.0</td>\n",
       "      <td>0</td>\n",
       "      <td>0</td>\n",
       "      <td>7.9250</td>\n",
       "      <td>NaN</td>\n",
       "      <td>S</td>\n",
       "    </tr>\n",
       "  </tbody>\n",
       "</table>\n",
       "</div>"
      ],
      "text/plain": [
       "   Survived  Pclass     Sex   Age  SibSp  Parch     Fare Cabin Embarked\n",
       "0         0       3    male  22.0      1      0   7.2500   NaN        S\n",
       "1         1       1  female  38.0      1      0  71.2833   C85        C\n",
       "2         1       3  female  26.0      0      0   7.9250   NaN        S"
      ]
     },
     "execution_count": 6,
     "metadata": {},
     "output_type": "execute_result"
    }
   ],
   "source": [
    "# 其中PassengerId、Name、Ticket与是否生存无关，删除\n",
    "train_data = train_data.drop(['PassengerId', 'Name', 'Ticket'], axis=1)\n",
    "train_data.head(3)"
   ]
  },
  {
   "cell_type": "code",
   "execution_count": 7,
   "id": "5cba30d5",
   "metadata": {},
   "outputs": [
    {
     "name": "stdout",
     "output_type": "stream",
     "text": [
      "<class 'pandas.core.frame.DataFrame'>\n",
      "RangeIndex: 891 entries, 0 to 890\n",
      "Data columns (total 9 columns):\n",
      " #   Column    Non-Null Count  Dtype  \n",
      "---  ------    --------------  -----  \n",
      " 0   Survived  891 non-null    int64  \n",
      " 1   Pclass    891 non-null    int64  \n",
      " 2   Sex       891 non-null    object \n",
      " 3   Age       714 non-null    float64\n",
      " 4   SibSp     891 non-null    int64  \n",
      " 5   Parch     891 non-null    int64  \n",
      " 6   Fare      891 non-null    float64\n",
      " 7   Cabin     204 non-null    object \n",
      " 8   Embarked  889 non-null    object \n",
      "dtypes: float64(2), int64(4), object(3)\n",
      "memory usage: 62.8+ KB\n"
     ]
    }
   ],
   "source": [
    "train_data.info() # 其中Age只有714个数据，缺少了891-714个数据；Cabin仅有204个，Embarked缺少2个数据"
   ]
  },
  {
   "cell_type": "markdown",
   "id": "b02c7856",
   "metadata": {},
   "source": [
    "Survived（存活基本情况）"
   ]
  },
  {
   "cell_type": "code",
   "execution_count": 8,
   "id": "248f27ea",
   "metadata": {},
   "outputs": [
    {
     "name": "stdout",
     "output_type": "stream",
     "text": [
      "生还者总共342人， 死亡者总共549人\n"
     ]
    }
   ],
   "source": [
    "# 891人当中，共有多少人生还\n",
    "total_survived_num = train_data['Survived'].sum()\n",
    "total_no_survived_num = 891 - total_survived_num\n",
    "print(f\"生还者总共{total_survived_num}人， 死亡者总共{total_no_survived_num}人\")"
   ]
  },
  {
   "cell_type": "code",
   "execution_count": 9,
   "id": "d17f1242",
   "metadata": {},
   "outputs": [
    {
     "data": {
      "image/png": "[encoded data removed]",
      "text/plain": [
       "<Figure size 864x432 with 2 Axes>"
      ]
     },
     "metadata": {
      "needs_background": "light"
     },
     "output_type": "display_data"
    }
   ],
   "source": [
    "plt.figure(figsize=(12, 6)) \n",
    "# 绘制柱状图\n",
    "plt.subplot(1, 2, 1)\n",
    "plt.bar([1, 0], [total_survived_num, total_no_survived_num], width=0.5)\n",
    "plt.xticks(ticks=[0, 1])\n",
    "plt.title('Survival Count')\n",
    "plt.xlabel('Survived')\n",
    "plt.ylabel('Count')\n",
    "\n",
    "# 绘制饼状图\n",
    "plt.subplot(1, 2, 2)\n",
    "plt.pie([total_survived_num, total_no_survived_num], \n",
    "        labels=['Survived', 'No Survived'], autopct=\"%.1f%%\")\n",
    "plt.title('Survival Rate')\n",
    "plt.show()"
   ]
  },
  {
   "cell_type": "code",
   "execution_count": 10,
   "id": "ce82b80d",
   "metadata": {},
   "outputs": [],
   "source": [
    "# 定义绘图函数\n",
    "def picture_bar(s, n, d, labels, title_1, title_2, figsize=(14, 5), width=0.3):\n",
    "    x = np.arange(len(labels)) \n",
    "\n",
    "    fig, (ax1, ax2) = plt.subplots(1, 2, figsize=figsize)\n",
    "    rects1 = ax1.bar(x - width/2, s, width, label='Number of survivors')\n",
    "    rects2 = ax1.bar(x + width/2, d, width, label='death toll')\n",
    "\n",
    "    ax1.set_ylabel('Count')\n",
    "    ax1.set_title(title_1)\n",
    "    ax1.set_xticks(x, labels)\n",
    "    ax1.legend()\n",
    "\n",
    "    #  padding ：标签与柱子之间的距离，单位为像素。浮点数。默认值为0。\n",
    "    ax1.bar_label(rects1, padding=2)\n",
    "    ax1.bar_label(rects2, padding=2)\n",
    "\n",
    "    r = [a/b*100 for a,b in zip(s,n)]\n",
    "    rects = ax2.bar(x, r, width, color='g')\n",
    "    ax2.set_ylabel('Rate')\n",
    "    ax2.set_title(title_2)\n",
    "    ax2.set_xticks(x, labels)\n",
    "    ax2.bar_label(rects, fmt='%.1f%%', padding=2)\n",
    "    # tight_layout会自动调整子图参数，使之填充整个图像区域。\n",
    "    fig.tight_layout() \n",
    "    plt.show() # 可以省略"
   ]
  },
  {
   "cell_type": "markdown",
   "id": "a416fc4a",
   "metadata": {},
   "source": [
    "Pclass（客舱等级）"
   ]
  },
  {
   "cell_type": "code",
   "execution_count": 11,
   "id": "049a8520",
   "metadata": {},
   "outputs": [
    {
     "data": {
      "text/html": [
       "<div>\n",
       "<style scoped>\n",
       "    .dataframe tbody tr th:only-of-type {\n",
       "        vertical-align: middle;\n",
       "    }\n",
       "\n",
       "    .dataframe tbody tr th {\n",
       "        vertical-align: top;\n",
       "    }\n",
       "\n",
       "    .dataframe thead th {\n",
       "        text-align: right;\n",
       "    }\n",
       "</style>\n",
       "<table border=\"1\" class=\"dataframe\">\n",
       "  <thead>\n",
       "    <tr style=\"text-align: right;\">\n",
       "      <th></th>\n",
       "      <th>Survived</th>\n",
       "    </tr>\n",
       "    <tr>\n",
       "      <th>Pclass</th>\n",
       "      <th></th>\n",
       "    </tr>\n",
       "  </thead>\n",
       "  <tbody>\n",
       "    <tr>\n",
       "      <th>1</th>\n",
       "      <td>216</td>\n",
       "    </tr>\n",
       "    <tr>\n",
       "      <th>2</th>\n",
       "      <td>184</td>\n",
       "    </tr>\n",
       "    <tr>\n",
       "      <th>3</th>\n",
       "      <td>491</td>\n",
       "    </tr>\n",
       "  </tbody>\n",
       "</table>\n",
       "</div>"
      ],
      "text/plain": [
       "        Survived\n",
       "Pclass          \n",
       "1            216\n",
       "2            184\n",
       "3            491"
      ]
     },
     "execution_count": 11,
     "metadata": {},
     "output_type": "execute_result"
    }
   ],
   "source": [
    "# Pclass（客舱等级），不同级别客舱的人数和比例\n",
    "x = train_data[['Pclass', 'Survived']].groupby(['Pclass']).count()\n",
    "x "
   ]
  },
  {
   "cell_type": "code",
   "execution_count": 12,
   "id": "85f1d4dd",
   "metadata": {},
   "outputs": [
    {
     "data": {
      "text/html": [
       "<div>\n",
       "<style scoped>\n",
       "    .dataframe tbody tr th:only-of-type {\n",
       "        vertical-align: middle;\n",
       "    }\n",
       "\n",
       "    .dataframe tbody tr th {\n",
       "        vertical-align: top;\n",
       "    }\n",
       "\n",
       "    .dataframe thead th {\n",
       "        text-align: right;\n",
       "    }\n",
       "</style>\n",
       "<table border=\"1\" class=\"dataframe\">\n",
       "  <thead>\n",
       "    <tr style=\"text-align: right;\">\n",
       "      <th></th>\n",
       "      <th>Survived</th>\n",
       "    </tr>\n",
       "    <tr>\n",
       "      <th>Pclass</th>\n",
       "      <th></th>\n",
       "    </tr>\n",
       "  </thead>\n",
       "  <tbody>\n",
       "    <tr>\n",
       "      <th>1</th>\n",
       "      <td>136</td>\n",
       "    </tr>\n",
       "    <tr>\n",
       "      <th>2</th>\n",
       "      <td>87</td>\n",
       "    </tr>\n",
       "    <tr>\n",
       "      <th>3</th>\n",
       "      <td>119</td>\n",
       "    </tr>\n",
       "  </tbody>\n",
       "</table>\n",
       "</div>"
      ],
      "text/plain": [
       "        Survived\n",
       "Pclass          \n",
       "1            136\n",
       "2             87\n",
       "3            119"
      ]
     },
     "execution_count": 12,
     "metadata": {},
     "output_type": "execute_result"
    }
   ],
   "source": [
    "# 不同级别客舱生还人数\n",
    "x = train_data[train_data['Survived'] == 1]\n",
    "x = x[['Pclass', 'Survived']].groupby('Pclass').count()\n",
    "x"
   ]
  },
  {
   "cell_type": "code",
   "execution_count": 13,
   "id": "10db7be9",
   "metadata": {},
   "outputs": [
    {
     "data": {
      "image/png": "[encoded data removed]",
      "text/plain": [
       "<Figure size 1008x360 with 2 Axes>"
      ]
     },
     "metadata": {
      "needs_background": "light"
     },
     "output_type": "display_data"
    }
   ],
   "source": [
    "s = train_data[train_data['Survived'] == 1]\n",
    "s = s[['Pclass', 'Survived']].groupby('Pclass').count()\n",
    "s = s['Survived']\n",
    "n = train_data[['Pclass', 'Survived']].groupby(['Pclass']).count()\n",
    "n = n['Survived']\n",
    "d = train_data[train_data['Survived'] == 0]\n",
    "d = d[['Pclass', 'Survived']].groupby('Pclass').count()\n",
    "d = d['Survived']\n",
    "labels = ['First class cabin', 'Second class cabin', 'Third class cabin']\n",
    "picture_bar(s, n, d, labels, title_1=\"Comparison of survival and death numbers of different classes of pclass\", \n",
    "            title_2=\"Survival rate of each cabin class\")"
   ]
  },
  {
   "cell_type": "markdown",
   "id": "2ac3c64e",
   "metadata": {},
   "source": [
    "Sex（性别)"
   ]
  },
  {
   "cell_type": "code",
   "execution_count": 14,
   "id": "f090ab57",
   "metadata": {},
   "outputs": [
    {
     "data": {
      "text/html": [
       "<div>\n",
       "<style scoped>\n",
       "    .dataframe tbody tr th:only-of-type {\n",
       "        vertical-align: middle;\n",
       "    }\n",
       "\n",
       "    .dataframe tbody tr th {\n",
       "        vertical-align: top;\n",
       "    }\n",
       "\n",
       "    .dataframe thead th {\n",
       "        text-align: right;\n",
       "    }\n",
       "</style>\n",
       "<table border=\"1\" class=\"dataframe\">\n",
       "  <thead>\n",
       "    <tr style=\"text-align: right;\">\n",
       "      <th></th>\n",
       "      <th>Survived</th>\n",
       "    </tr>\n",
       "    <tr>\n",
       "      <th>Sex</th>\n",
       "      <th></th>\n",
       "    </tr>\n",
       "  </thead>\n",
       "  <tbody>\n",
       "    <tr>\n",
       "      <th>female</th>\n",
       "      <td>314</td>\n",
       "    </tr>\n",
       "    <tr>\n",
       "      <th>male</th>\n",
       "      <td>577</td>\n",
       "    </tr>\n",
       "  </tbody>\n",
       "</table>\n",
       "</div>"
      ],
      "text/plain": [
       "        Survived\n",
       "Sex             \n",
       "female       314\n",
       "male         577"
      ]
     },
     "execution_count": 14,
     "metadata": {},
     "output_type": "execute_result"
    }
   ],
   "source": [
    "# 不同性别人数比例及生还率\n",
    "x = train_data[['Sex','Survived']].groupby('Sex').count()\n",
    "x"
   ]
  },
  {
   "cell_type": "code",
   "execution_count": 15,
   "id": "483f4d48",
   "metadata": {},
   "outputs": [
    {
     "data": {
      "text/html": [
       "<div>\n",
       "<style scoped>\n",
       "    .dataframe tbody tr th:only-of-type {\n",
       "        vertical-align: middle;\n",
       "    }\n",
       "\n",
       "    .dataframe tbody tr th {\n",
       "        vertical-align: top;\n",
       "    }\n",
       "\n",
       "    .dataframe thead th {\n",
       "        text-align: right;\n",
       "    }\n",
       "</style>\n",
       "<table border=\"1\" class=\"dataframe\">\n",
       "  <thead>\n",
       "    <tr style=\"text-align: right;\">\n",
       "      <th></th>\n",
       "      <th>Survived</th>\n",
       "    </tr>\n",
       "    <tr>\n",
       "      <th>Sex</th>\n",
       "      <th></th>\n",
       "    </tr>\n",
       "  </thead>\n",
       "  <tbody>\n",
       "    <tr>\n",
       "      <th>female</th>\n",
       "      <td>233</td>\n",
       "    </tr>\n",
       "    <tr>\n",
       "      <th>male</th>\n",
       "      <td>109</td>\n",
       "    </tr>\n",
       "  </tbody>\n",
       "</table>\n",
       "</div>"
      ],
      "text/plain": [
       "        Survived\n",
       "Sex             \n",
       "female       233\n",
       "male         109"
      ]
     },
     "execution_count": 15,
     "metadata": {},
     "output_type": "execute_result"
    }
   ],
   "source": [
    "x = train_data[train_data['Survived'] == 1]\n",
    "x = x[['Sex', 'Survived']].groupby('Sex').count()\n",
    "x"
   ]
  },
  {
   "cell_type": "code",
   "execution_count": 16,
   "id": "a3e8878e",
   "metadata": {},
   "outputs": [
    {
     "data": {
      "image/png": "[encoded data removed]",
      "text/plain": [
       "<Figure size 1008x360 with 2 Axes>"
      ]
     },
     "metadata": {
      "needs_background": "light"
     },
     "output_type": "display_data"
    }
   ],
   "source": [
    "s = train_data[train_data['Survived'] == 1]\n",
    "s = s[['Sex', 'Survived']].groupby('Sex').count()\n",
    "s = s['Survived']\n",
    "n = train_data[['Sex', 'Survived']].groupby(['Sex']).count()\n",
    "n = n['Survived']\n",
    "d = train_data[train_data['Survived'] == 0]\n",
    "d = d[['Sex', 'Survived']].groupby('Sex').count()\n",
    "d = d['Survived']\n",
    "labels = ['female', 'male']\n",
    "picture_bar(s, n, d, labels, title_1=\"Comparison of survival and death numbers by gender\", \n",
    "            title_2=\"Survival rates by gender\")"
   ]
  },
  {
   "cell_type": "markdown",
   "id": "b13422c1",
   "metadata": {},
   "source": [
    "Age(年龄)"
   ]
  },
  {
   "cell_type": "code",
   "execution_count": 17,
   "id": "d6543e8c",
   "metadata": {},
   "outputs": [
    {
     "name": "stdout",
     "output_type": "stream",
     "text": [
      "缺少的年龄数:177\n",
      "年龄平均值:29.69911764705882\n"
     ]
    }
   ],
   "source": [
    "# 不同年龄比例及生还率\n",
    "# 由于Age是有缺失值的，所以先处理缺失值问题。填充的年龄为年龄平均值。\n",
    "# 查看缺少的年龄数\n",
    "nan_age_count = train_data['Age'].isnull().sum()\n",
    "print(f\"缺少的年龄数:{nan_age_count}\")\n",
    "# 求年龄平均值\n",
    "avg_age = train_data['Age'].mean()\n",
    "print(f\"年龄平均值:{avg_age}\")\n",
    "# 填充缺失的年龄\n",
    "train_data['Age'] = train_data['Age'].fillna(avg_age)"
   ]
  },
  {
   "cell_type": "code",
   "execution_count": 18,
   "id": "f48ff905",
   "metadata": {},
   "outputs": [
    {
     "data": {
      "text/plain": [
       "count    891.000000\n",
       "mean      29.699118\n",
       "std       13.002015\n",
       "min        0.420000\n",
       "25%       22.000000\n",
       "50%       29.699118\n",
       "75%       35.000000\n",
       "max       80.000000\n",
       "Name: Age, dtype: float64"
      ]
     },
     "execution_count": 18,
     "metadata": {},
     "output_type": "execute_result"
    }
   ],
   "source": [
    "train_data['Age'].describe()"
   ]
  },
  {
   "cell_type": "code",
   "execution_count": 19,
   "id": "478600f1",
   "metadata": {},
   "outputs": [
    {
     "data": {
      "image/png": "[encoded data removed]",
      "text/plain": [
       "<Figure size 1008x360 with 2 Axes>"
      ]
     },
     "metadata": {
      "needs_background": "light"
     },
     "output_type": "display_data"
    }
   ],
   "source": [
    "# 查看年龄分布\n",
    "plt.figure(figsize=(14, 5))\n",
    "# 绘制年龄分布图\n",
    "plt.subplot(1, 2, 1)\n",
    "train_data['Age'].hist(bins = 70) # bins,数据划分的份数\n",
    "plt.xlabel('Age')\n",
    "plt.ylabel('Num')\n",
    "# 绘制年龄分布图\n",
    "plt.subplot(1, 2, 2)\n",
    "train_data.boxplot(column='Age', showfliers=False)# 表示是否显示异常值，默认显示\n",
    "plt.show() "
   ]
  },
  {
   "cell_type": "code",
   "execution_count": 20,
   "id": "7067ea84",
   "metadata": {},
   "outputs": [],
   "source": [
    "# 按照年龄，将乘客划分为儿童，少年，成年人，老年人，分析四个群体的生还情况\n",
    "children_df = train_data[train_data['Age'] <= 12]\n",
    "juvenile_df = train_data[(train_data['Age'] > 12) & (train_data['Age'] < 18)]\n",
    "adults_df = train_data[(train_data['Age'] >= 18) & (train_data['Age'] < 65)]\n",
    "agedness_df = train_data[train_data['Age'] >= 65]"
   ]
  },
  {
   "cell_type": "code",
   "execution_count": 21,
   "id": "e8c133d1",
   "metadata": {},
   "outputs": [
    {
     "data": {
      "text/plain": [
       "(69, 44, 767, 11)"
      ]
     },
     "execution_count": 21,
     "metadata": {},
     "output_type": "execute_result"
    }
   ],
   "source": [
    "# 儿童数量\n",
    "children_count = children_df['Survived'].count()\n",
    "# 少年数量\n",
    "juvenile_count = juvenile_df['Survived'].count()\n",
    "# 成年人数量\n",
    "adults_count = adults_df['Survived'].count()\n",
    "# 老年人数量\n",
    "agedness_count = agedness_df['Survived'].count()\n",
    "children_count, juvenile_count, adults_count, agedness_count"
   ]
  },
  {
   "cell_type": "code",
   "execution_count": 22,
   "id": "3b4d2be0",
   "metadata": {},
   "outputs": [
    {
     "data": {
      "text/plain": [
       "(40, 21, 280, 1)"
      ]
     },
     "execution_count": 22,
     "metadata": {},
     "output_type": "execute_result"
    }
   ],
   "source": [
    "# 儿童中存活的数量\n",
    "children_survived_count = children_df['Survived'].sum()\n",
    "# 少年中存活的数量\n",
    "juvenile_survived_count = juvenile_df['Survived'].sum()\n",
    "# 成年人中存活的数量\n",
    "adults_survived_count = adults_df['Survived'].sum()\n",
    "# 老年人中存活的数量\n",
    "agedness_survived_count = agedness_df['Survived'].sum()\n",
    "children_survived_count, juvenile_survived_count, adults_survived_count, agedness_survived_count"
   ]
  },
  {
   "cell_type": "code",
   "execution_count": 23,
   "id": "1fadbdc5",
   "metadata": {},
   "outputs": [
    {
     "data": {
      "image/png": "[encoded data removed]",
      "text/plain": [
       "<Figure size 1008x360 with 2 Axes>"
      ]
     },
     "metadata": {
      "needs_background": "light"
     },
     "output_type": "display_data"
    }
   ],
   "source": [
    "s = [children_survived_count, juvenile_survived_count, adults_survived_count, agedness_survived_count]\n",
    "n = [children_count, juvenile_count, adults_count, agedness_count]\n",
    "# 死亡人数列表\n",
    "d = [b - a for a,b in zip(s, n)]\n",
    "labels = ['children', 'juvenile', 'adults', 'agedness']\n",
    "picture_bar(s, n, d, labels, title_1=\"Comparison of survival and death numbers in different age groups\", \n",
    "            title_2=\"Survival rate of different age groups\")"
   ]
  },
  {
   "cell_type": "markdown",
   "id": "9f1e24c1",
   "metadata": {},
   "source": [
    "SibSp（兄弟姐妹）"
   ]
  },
  {
   "cell_type": "code",
   "execution_count": 24,
   "id": "c9eb9467",
   "metadata": {},
   "outputs": [
    {
     "data": {
      "text/plain": [
       "(283, 608)"
      ]
     },
     "execution_count": 24,
     "metadata": {},
     "output_type": "execute_result"
    }
   ],
   "source": [
    "# 有兄弟姐妹的乘客生还人数和生还率\n",
    "sibsp_df = train_data[train_data['SibSp'] != 0]\n",
    "no_sibsp_df = train_data[train_data['SibSp'] == 0]\n",
    "# 有兄弟姐妹的乘客数\n",
    "sibsp_count = sibsp_df['Survived'].count()\n",
    "# 没有兄弟姐妹的乘客数\n",
    "no_sibsp_count = no_sibsp_df['Survived'].count()\n",
    "sibsp_count, no_sibsp_count"
   ]
  },
  {
   "cell_type": "code",
   "execution_count": 25,
   "id": "4fa76e95",
   "metadata": {},
   "outputs": [
    {
     "data": {
      "text/plain": [
       "(132, 210)"
      ]
     },
     "execution_count": 25,
     "metadata": {},
     "output_type": "execute_result"
    }
   ],
   "source": [
    "# 有兄弟姐妹的乘客生还数\n",
    "sibsp_survived_count = sibsp_df['Survived'].sum()\n",
    "# 没有兄弟姐妹的乘客生还数\n",
    "no_sibsp_survived_count = no_sibsp_df['Survived'].sum()\n",
    "sibsp_survived_count, no_sibsp_survived_count"
   ]
  },
  {
   "cell_type": "code",
   "execution_count": 26,
   "id": "62411535",
   "metadata": {},
   "outputs": [
    {
     "data": {
      "image/png": "[encoded data removed]",
      "text/plain": [
       "<Figure size 1008x360 with 2 Axes>"
      ]
     },
     "metadata": {
      "needs_background": "light"
     },
     "output_type": "display_data"
    }
   ],
   "source": [
    "labels = ['sibsp', 'no_sibsp']\n",
    "s = [sibsp_survived_count, no_sibsp_survived_count]\n",
    "n = [sibsp_count, no_sibsp_count]\n",
    "d = [b - a for a,b in zip(s,n)]\n",
    "picture_bar(s, n, d, labels, title_1=\"Comparison of the number of survivors and deaths with or without siblings\", \n",
    "            title_2=\"Survival rate with or without siblings\")"
   ]
  },
  {
   "cell_type": "markdown",
   "id": "2d3a1f9d",
   "metadata": {},
   "source": [
    "Parch（父母子女）"
   ]
  },
  {
   "cell_type": "code",
   "execution_count": 27,
   "id": "f6135bec",
   "metadata": {},
   "outputs": [
    {
     "data": {
      "text/plain": [
       "(213, 678)"
      ]
     },
     "execution_count": 27,
     "metadata": {},
     "output_type": "execute_result"
    }
   ],
   "source": [
    "# 有父母子女的乘客生还人数和生还率\n",
    "parch_df = train_data[train_data['Parch'] != 0]\n",
    "no_parch_df = train_data[train_data['Parch'] == 0]\n",
    "# 有父母子女的乘客数\n",
    "parch_count = parch_df['Survived'].count()\n",
    "# 没有父母子女的乘客数\n",
    "no_parch_count = no_parch_df['Survived'].count()\n",
    "parch_count, no_parch_count"
   ]
  },
  {
   "cell_type": "code",
   "execution_count": 28,
   "id": "5b8fc1e6",
   "metadata": {},
   "outputs": [
    {
     "data": {
      "text/plain": [
       "(109, 233)"
      ]
     },
     "execution_count": 28,
     "metadata": {},
     "output_type": "execute_result"
    }
   ],
   "source": [
    "# 有父母子女的乘客生还数\n",
    "parch_survived_count = parch_df['Survived'].sum()\n",
    "# 没有父母子女的乘客生还数\n",
    "no_parch_survived_count = no_parch_df['Survived'].sum()\n",
    "parch_survived_count, no_parch_survived_count"
   ]
  },
  {
   "cell_type": "code",
   "execution_count": 29,
   "id": "2ff30da0",
   "metadata": {},
   "outputs": [
    {
     "data": {
      "image/png": "[encoded data removed]",
      "text/plain": [
       "<Figure size 1008x360 with 2 Axes>"
      ]
     },
     "metadata": {
      "needs_background": "light"
     },
     "output_type": "display_data"
    }
   ],
   "source": [
    "labels = ['parch', 'no_parch']\n",
    "s = [parch_survived_count, no_parch_survived_count]\n",
    "n = [parch_count, no_parch_count]\n",
    "d = [b - a for a,b in zip(s,n)]\n",
    "picture_bar(s, n, d, labels, title_1=\"Comparison of the number of survivors and deaths with or without Parents and children\", \n",
    "            title_2=\"Survival rate with or without parents and children\")"
   ]
  },
  {
   "cell_type": "markdown",
   "id": "aa8f08cc",
   "metadata": {},
   "source": [
    "Fare（票价）"
   ]
  },
  {
   "cell_type": "code",
   "execution_count": 30,
   "id": "bad24957",
   "metadata": {},
   "outputs": [
    {
     "data": {
      "text/plain": [
       "count    891.000000\n",
       "mean      32.204208\n",
       "std       49.693429\n",
       "min        0.000000\n",
       "25%        7.910400\n",
       "50%       14.454200\n",
       "75%       31.000000\n",
       "max      512.329200\n",
       "Name: Fare, dtype: float64"
      ]
     },
     "execution_count": 30,
     "metadata": {},
     "output_type": "execute_result"
    }
   ],
   "source": [
    "# 票价分布\n",
    "train_data['Fare'].describe()"
   ]
  },
  {
   "cell_type": "code",
   "execution_count": 31,
   "id": "df6628ec",
   "metadata": {},
   "outputs": [
    {
     "data": {
      "image/png": "[encoded data removed]",
      "text/plain": [
       "<Figure size 864x360 with 2 Axes>"
      ]
     },
     "metadata": {
      "needs_background": "light"
     },
     "output_type": "display_data"
    }
   ],
   "source": [
    "# 绘制存活乘客的票价分布图\n",
    "plt.figure(figsize=(12, 5))\n",
    "# 绘制存活乘客的票价分布图\n",
    "plt.subplot(1, 2, 1)\n",
    "train_data[train_data['Survived'] == 1]['Fare'].hist(bins = 20)\n",
    "plt.xlabel('Fare')\n",
    "plt.ylabel('Count')\n",
    "# 绘制存活乘客的票价盒图\n",
    "plt.subplot(1, 2, 2)\n",
    "train_data[train_data['Survived'] == 1].boxplot(column='Fare', showfliers=False)\n",
    "plt.show()"
   ]
  },
  {
   "cell_type": "code",
   "execution_count": 32,
   "id": "7b7ba913",
   "metadata": {},
   "outputs": [
    {
     "data": {
      "image/png": "[encoded data removed]",
      "text/plain": [
       "<Figure size 1008x360 with 2 Axes>"
      ]
     },
     "metadata": {
      "needs_background": "light"
     },
     "output_type": "display_data"
    }
   ],
   "source": [
    "# 绘制遇难的票价分布图\n",
    "plt.figure(figsize=(14, 5))\n",
    "# 绘制票价分布图\n",
    "plt.subplot(1, 2, 1)\n",
    "train_data[train_data['Survived'] == 0]['Fare'].hist(bins = 20)\n",
    "plt.xlabel('Fare')\n",
    "plt.ylabel('Count')\n",
    "# 绘制盒图\n",
    "plt.subplot(1, 2, 2)\n",
    "train_data[train_data['Survived'] == 0].boxplot(column='Fare', showfliers=False)\n",
    "plt.show()"
   ]
  },
  {
   "cell_type": "markdown",
   "id": "e941364d",
   "metadata": {},
   "source": [
    "Cabin(船舱)"
   ]
  },
  {
   "cell_type": "code",
   "execution_count": 33,
   "id": "3be4f202",
   "metadata": {},
   "outputs": [],
   "source": [
    "# 丢失值太多，不能用此数据分析出Cabin对生存率的影响，丢掉\n",
    "train_data = train_data.drop('Cabin', axis=1)"
   ]
  },
  {
   "cell_type": "code",
   "execution_count": 34,
   "id": "2bebee01",
   "metadata": {},
   "outputs": [
    {
     "name": "stdout",
     "output_type": "stream",
     "text": [
      "<class 'pandas.core.frame.DataFrame'>\n",
      "RangeIndex: 891 entries, 0 to 890\n",
      "Data columns (total 8 columns):\n",
      " #   Column    Non-Null Count  Dtype  \n",
      "---  ------    --------------  -----  \n",
      " 0   Survived  891 non-null    int64  \n",
      " 1   Pclass    891 non-null    int64  \n",
      " 2   Sex       891 non-null    object \n",
      " 3   Age       891 non-null    float64\n",
      " 4   SibSp     891 non-null    int64  \n",
      " 5   Parch     891 non-null    int64  \n",
      " 6   Fare      891 non-null    float64\n",
      " 7   Embarked  889 non-null    object \n",
      "dtypes: float64(2), int64(4), object(2)\n",
      "memory usage: 55.8+ KB\n"
     ]
    }
   ],
   "source": [
    "train_data.info()"
   ]
  },
  {
   "cell_type": "markdown",
   "id": "87de451d",
   "metadata": {},
   "source": [
    "Embarked（登船港口）"
   ]
  },
  {
   "cell_type": "code",
   "execution_count": 35,
   "id": "e4e3ef45",
   "metadata": {},
   "outputs": [
    {
     "data": {
      "text/plain": [
       "S    644\n",
       "C    168\n",
       "Q     77\n",
       "Name: Embarked, dtype: int64"
      ]
     },
     "execution_count": 35,
     "metadata": {},
     "output_type": "execute_result"
    }
   ],
   "source": [
    "# 各个港口上船人数及生还率\n",
    "# 由于Embarked有两个缺失值，所以这里使用众数来填充\n",
    "# 统计各个（港口）出现的次数\n",
    "train_data['Embarked'].value_counts()"
   ]
  },
  {
   "cell_type": "code",
   "execution_count": 36,
   "id": "49581fc0",
   "metadata": {},
   "outputs": [],
   "source": [
    "# S出现的次数最多，所以用S来填充两个缺失的数\n",
    "train_data['Embarked'] = train_data['Embarked'].fillna('S')"
   ]
  },
  {
   "cell_type": "code",
   "execution_count": 37,
   "id": "fc87adbe",
   "metadata": {},
   "outputs": [
    {
     "name": "stdout",
     "output_type": "stream",
     "text": [
      "<class 'pandas.core.frame.DataFrame'>\n",
      "RangeIndex: 891 entries, 0 to 890\n",
      "Data columns (total 8 columns):\n",
      " #   Column    Non-Null Count  Dtype  \n",
      "---  ------    --------------  -----  \n",
      " 0   Survived  891 non-null    int64  \n",
      " 1   Pclass    891 non-null    int64  \n",
      " 2   Sex       891 non-null    object \n",
      " 3   Age       891 non-null    float64\n",
      " 4   SibSp     891 non-null    int64  \n",
      " 5   Parch     891 non-null    int64  \n",
      " 6   Fare      891 non-null    float64\n",
      " 7   Embarked  891 non-null    object \n",
      "dtypes: float64(2), int64(4), object(2)\n",
      "memory usage: 55.8+ KB\n"
     ]
    }
   ],
   "source": [
    "train_data.info()"
   ]
  },
  {
   "cell_type": "code",
   "execution_count": 38,
   "id": "b6c40b19",
   "metadata": {},
   "outputs": [
    {
     "data": {
      "text/plain": [
       "S    646\n",
       "C    168\n",
       "Q     77\n",
       "Name: Embarked, dtype: int64"
      ]
     },
     "execution_count": 38,
     "metadata": {},
     "output_type": "execute_result"
    }
   ],
   "source": [
    "# 填充后，各个港口登船的乘客数\n",
    "n = train_data['Embarked'].value_counts()\n",
    "n"
   ]
  },
  {
   "cell_type": "code",
   "execution_count": 39,
   "id": "d555c1df",
   "metadata": {},
   "outputs": [
    {
     "data": {
      "text/plain": [
       "(S    219\n",
       " C     93\n",
       " Q     30\n",
       " Name: Embarked, dtype: int64,\n",
       " S    427\n",
       " C     75\n",
       " Q     47\n",
       " Name: Embarked, dtype: int64)"
      ]
     },
     "execution_count": 39,
     "metadata": {},
     "output_type": "execute_result"
    }
   ],
   "source": [
    "# 海难后，各个港口登船的存活乘客数\n",
    "s = train_data[train_data['Survived'] == 1]['Embarked'].value_counts()\n",
    "d = train_data[train_data['Survived'] == 0]['Embarked'].value_counts()\n",
    "s, d"
   ]
  },
  {
   "cell_type": "code",
   "execution_count": 40,
   "id": "82121c6b",
   "metadata": {},
   "outputs": [
    {
     "data": {
      "image/png": "[encoded data removed]",
      "text/plain": [
       "<Figure size 1008x360 with 2 Axes>"
      ]
     },
     "metadata": {
      "needs_background": "light"
     },
     "output_type": "display_data"
    }
   ],
   "source": [
    "# 统计各个港口登船的存活率\n",
    "s = [219, 93, 30]\n",
    "n = [646, 168, 77]\n",
    "d = [427, 75, 47]\n",
    "# print(s, n, d)\n",
    "labels = ['S', 'C', 'Q']\n",
    "picture_bar(s, n, d, labels, title_1=\"Comparison of survival and death of boarding at various ports\", \n",
    "            title_2=\"Survival rate of boarding at each port\", width=0.35)\n",
    "# S港口存活率：33.9%，C港口存活率：55.4%，Q港口存活率：39.0%"
   ]
  },
  {
   "cell_type": "markdown",
   "id": "b449e893",
   "metadata": {},
   "source": [
    "# 总结："
   ]
  },
  {
   "cell_type": "markdown",
   "id": "a59d7c0f",
   "metadata": {},
   "source": [
    "本次分析主要寻找了泰坦尼克号上的生还率与各因素（客舱等级、年龄、性别、上船港口等）的关系。\n",
    "1、样本数量为891，海难发生后，生还者还剩342人，生还率为38.4%。\n",
    "\n",
    "2、泰坦尼克号上有一、二、三等舱三种船舱类型。\n",
    "\n",
    " 海难发生前，一等舱有 216 人，二等舱 184 人，三等舱 491 人，分别占总人数的 24%， 21%， 55%。\n",
    " 海难发生后，一等舱、二等舱、三等舱的乘客人数变为136、87、119人，分别占总人数的 40%, 25%, 35%。\n",
    " 一等舱生还率为 63%，二等舱为 47%，三等舱为 24%。可见客舱等级越高，生还率越高。\n",
    "海难发生前，男性共577人，女性314人，男女比例为 65% 和 35%。\n",
    "\n",
    "3、 海难发生后，男性变为109人，女性变为233人，男女比例变为 32% 和 68%。\n",
    " 男性生还109人，生还率仅为19%。女性生还233人，生还率为74%，远远高于男性的19%。可见女性比男性在这次事故中更容易生还，表明“女士优先”的原则在本次事故中得到了发扬。\n",
    "4、样本的891人中，平均年龄约为30岁， 标准差15岁，最小年龄为0.42，最大年龄80。按照儿童（0-12）、少年（12-18）、成人（18-65）、老年人（65及以上）划分为四类。\n",
    "\n",
    " 四类人的生还率分别为58%，48%，39% 和9%。可见年龄越大，生还率越低。“尊老爱幼”的原则在本次事故中没有很好体现。\n",
    "5、有兄弟姐妹的乘客有283人，生还132人，生还率为47%，\n",
    "\n",
    " 而没有兄弟姐妹的乘客，有608人，生还210人，生还率为35%。可见有兄弟姐妹同船的生还率比没有兄弟姐妹同船的生还率要高。\n",
    "6、有父母或子女同船的乘客有213人，生还109人，生还率为51%。\n",
    "\n",
    " 没有父母子女同船的乘客有678人，生还233人，生还率仅为34%。\n",
    "可见有父母或子女同船的生还率比没有的生还率要高。综合前一条分析，可以得出推论，有家人在船上的比没有家人在船上的生还概率要大。\n",
    "\n",
    "7、票价与生还有一定相关性，生还者的平均票价要比未生还的高。\n",
    "\n",
    "8、S港口生还人数最多，C次之，Q最少。从生还率来看，C港上船的生还率最高，Q次之，S生还率最低。"
   ]
  },
  {
   "cell_type": "code",
   "execution_count": null,
   "id": "fc8cdbbb",
   "metadata": {},
   "outputs": [],
   "source": []
  }
 ],
 "metadata": {
  "kernelspec": {
   "display_name": "Python 3 (ipykernel)",
   "language": "python",
   "name": "python3"
  },
  "language_info": {
   "codemirror_mode": {
    "name": "ipython",
    "version": 3
   },
   "file_extension": ".py",
   "mimetype": "text/x-python",
   "name": "python",
   "nbconvert_exporter": "python",
   "pygments_lexer": "ipython3",
   "version": "3.8.13"
  }
 },
 "nbformat": 4,
 "nbformat_minor": 5
}
